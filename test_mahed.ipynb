{
 "cells": [
  {
   "cell_type": "code",
   "execution_count": 1,
   "metadata": {},
   "outputs": [
    {
     "name": "stdout",
     "output_type": "stream",
     "text": [
      "pygame 2.1.0 (SDL 2.0.16, Python 3.9.4)\n",
      "Hello from the pygame community. https://www.pygame.org/contribute.html\n",
      "Using cpu device\n",
      "Wrapping the env with a `Monitor` wrapper\n",
      "Wrapping the env in a DummyVecEnv.\n"
     ]
    }
   ],
   "source": [
    "import gym_examples\n",
    "import gym\n",
    "import pygame\n",
    "from stable_baselines3.common.env_checker import check_env\n",
    "from stable_baselines3 import PPO, A2C\n",
    "env = gym.make('gym_examples/GridWorld-v0')\n",
    "model = PPO(\"MultiInputPolicy\", env, verbose=1, device=\"cpu\")\n"
   ]
  },
  {
   "cell_type": "code",
   "execution_count": 2,
   "metadata": {},
   "outputs": [
    {
     "name": "stdout",
     "output_type": "stream",
     "text": [
      "Wrapping the env with a `Monitor` wrapper\n",
      "Wrapping the env in a DummyVecEnv.\n"
     ]
    }
   ],
   "source": [
    "\n",
    "model = PPO.load(\"PPO_GridWorld\", env=env, device=\"cpu\")"
   ]
  },
  {
   "cell_type": "code",
   "execution_count": 3,
   "metadata": {},
   "outputs": [
    {
     "name": "stdout",
     "output_type": "stream",
     "text": [
      "---------------------------------\n",
      "| rollout/           |          |\n",
      "|    ep_len_mean     | 75       |\n",
      "|    ep_rew_mean     | -150     |\n",
      "| time/              |          |\n",
      "|    fps             | 2078     |\n",
      "|    iterations      | 1        |\n",
      "|    time_elapsed    | 0        |\n",
      "|    total_timesteps | 6144     |\n",
      "---------------------------------\n",
      "-----------------------------------------\n",
      "| rollout/                |             |\n",
      "|    ep_len_mean          | 70.8        |\n",
      "|    ep_rew_mean          | -127        |\n",
      "| time/                   |             |\n",
      "|    fps                  | 1480        |\n",
      "|    iterations           | 2           |\n",
      "|    time_elapsed         | 2           |\n",
      "|    total_timesteps      | 8192        |\n",
      "| train/                  |             |\n",
      "|    approx_kl            | 0.012741391 |\n",
      "|    clip_fraction        | 0.146       |\n",
      "|    clip_range           | 0.2         |\n",
      "|    entropy_loss         | -1.37       |\n",
      "|    explained_variance   | 0.000953    |\n",
      "|    learning_rate        | 0.0003      |\n",
      "|    loss                 | 855         |\n",
      "|    n_updates            | 30          |\n",
      "|    policy_gradient_loss | -0.0113     |\n",
      "|    value_loss           | 1.85e+03    |\n",
      "-----------------------------------------\n"
     ]
    }
   ],
   "source": [
    "model.learn(total_timesteps=30000, reset_num_timesteps=False, tb_log_name=\"PPO\")\n",
    "episodes = 5\n",
    "model.save(\"PPO_GridWorld\")\n"
   ]
  },
  {
   "cell_type": "code",
   "execution_count": 8,
   "metadata": {},
   "outputs": [],
   "source": [
    "episodes = 15\n",
    "for ep in range(episodes):\n",
    "    obs = env.reset()\n",
    "    done = False\n",
    "    while not done:\n",
    "        action = model.predict(obs)\n",
    "        #print(type(int(action[0])))\n",
    "        \n",
    "        #print(int(action[0]))\n",
    "        obs, rewards, done, info, = env.step(int(action[0]))\n",
    "        env.render()"
   ]
  },
  {
   "cell_type": "code",
   "execution_count": 9,
   "metadata": {},
   "outputs": [],
   "source": [
    "env.close()"
   ]
  },
  {
   "cell_type": "code",
   "execution_count": 4,
   "metadata": {},
   "outputs": [
    {
     "name": "stdout",
     "output_type": "stream",
     "text": [
      "-5\n",
      "-5\n",
      "-5\n",
      "2\n",
      "-5\n",
      "2\n",
      "-5\n",
      "2\n",
      "2\n",
      "-5\n",
      "2\n",
      "2\n",
      "-5\n",
      "2\n",
      "2\n",
      "-5\n",
      "2\n",
      "25\n",
      "2\n",
      "2\n",
      "2\n",
      "2\n",
      "100\n",
      "2\n",
      "2\n",
      "2\n",
      "2\n",
      "25\n",
      "2\n",
      "100\n",
      "-5\n",
      "2\n",
      "25\n",
      "2\n",
      "2\n",
      "2\n",
      "100\n",
      "-5\n",
      "2\n",
      "-5\n",
      "-5\n",
      "2\n",
      "-5\n",
      "2\n",
      "-5\n",
      "-5\n",
      "2\n",
      "2\n",
      "2\n",
      "-5\n",
      "2\n",
      "-5\n",
      "2\n",
      "-5\n",
      "2\n",
      "25\n",
      "2\n",
      "2\n",
      "100\n",
      "2\n",
      "100\n",
      "2\n",
      "2\n",
      "2\n",
      "2\n",
      "2\n",
      "2\n",
      "100\n",
      "2\n",
      "2\n",
      "2\n",
      "-5\n",
      "-5\n",
      "2\n",
      "2\n",
      "2\n",
      "2\n",
      "2\n",
      "25\n",
      "2\n",
      "2\n",
      "2\n",
      "2\n",
      "100\n",
      "2\n",
      "2\n",
      "25\n",
      "2\n",
      "2\n",
      "2\n",
      "2\n",
      "2\n",
      "100\n",
      "2\n",
      "2\n",
      "2\n",
      "2\n",
      "25\n",
      "2\n",
      "2\n",
      "100\n",
      "2\n",
      "-5\n",
      "2\n",
      "-5\n",
      "-5\n",
      "-5\n",
      "-5\n",
      "2\n",
      "-5\n",
      "2\n",
      "2\n",
      "-5\n",
      "-5\n",
      "2\n",
      "2\n",
      "-5\n",
      "2\n",
      "2\n",
      "2\n",
      "25\n",
      "2\n",
      "2\n",
      "2\n",
      "2\n",
      "100\n",
      "2\n",
      "100\n",
      "2\n",
      "2\n",
      "-5\n",
      "-5\n",
      "2\n",
      "-5\n",
      "2\n",
      "2\n",
      "-5\n",
      "2\n",
      "-5\n",
      "-5\n",
      "-5\n",
      "2\n",
      "2\n",
      "2\n",
      "2\n",
      "2\n",
      "25\n",
      "2\n",
      "2\n",
      "2\n",
      "2\n",
      "2\n",
      "100\n",
      "2\n",
      "-5\n",
      "2\n",
      "2\n",
      "-5\n",
      "2\n",
      "-5\n",
      "2\n",
      "2\n",
      "2\n",
      "25\n",
      "2\n",
      "2\n",
      "2\n",
      "2\n",
      "2\n",
      "2\n",
      "100\n",
      "2\n",
      "2\n",
      "2\n",
      "2\n",
      "2\n",
      "2\n",
      "100\n",
      "2\n",
      "2\n",
      "2\n",
      "100\n"
     ]
    }
   ],
   "source": [
    "env = gym.make('gym_examples/GridWorld-v0')\n",
    "for ep in range(episodes):\n",
    "    obs = env.reset()\n",
    "    done = False\n",
    "    while not done:\n",
    "        action = model.predict(obs)\n",
    "        #print(type(int(action[0])))\n",
    "        \n",
    "        #print(int(action[0]))\n",
    "        obs, rewards, done, info, = env.step(int(action[0]))\n",
    "        print (rewards)\n",
    "        env.render()"
   ]
  },
  {
   "cell_type": "code",
   "execution_count": 11,
   "metadata": {},
   "outputs": [],
   "source": [
    "env.close()"
   ]
  },
  {
   "cell_type": "code",
   "execution_count": 24,
   "metadata": {},
   "outputs": [
    {
     "ename": "AxisError",
     "evalue": "axis 1 is out of bounds for array of dimension 1",
     "output_type": "error",
     "traceback": [
      "\u001b[1;31m---------------------------------------------------------------------------\u001b[0m",
      "\u001b[1;31mAxisError\u001b[0m                                 Traceback (most recent call last)",
      "\u001b[1;32mc:\\Users\\Mahed\\Documents\\GitHub\\Rob7-MainProject\\test_mahed.ipynb Cell 8\u001b[0m in \u001b[0;36m<cell line: 4>\u001b[1;34m()\u001b[0m\n\u001b[0;32m      <a href='vscode-notebook-cell:/c%3A/Users/Mahed/Documents/GitHub/Rob7-MainProject/test_mahed.ipynb#X10sZmlsZQ%3D%3D?line=2'>3</a>\u001b[0m list_ \u001b[39m=\u001b[39m np\u001b[39m.\u001b[39marray([\u001b[39m0\u001b[39m])\n\u001b[0;32m      <a href='vscode-notebook-cell:/c%3A/Users/Mahed/Documents/GitHub/Rob7-MainProject/test_mahed.ipynb#X10sZmlsZQ%3D%3D?line=3'>4</a>\u001b[0m \u001b[39mfor\u001b[39;00m i \u001b[39min\u001b[39;00m \u001b[39mrange\u001b[39m(\u001b[39m10000\u001b[39m):\n\u001b[1;32m----> <a href='vscode-notebook-cell:/c%3A/Users/Mahed/Documents/GitHub/Rob7-MainProject/test_mahed.ipynb#X10sZmlsZQ%3D%3D?line=4'>5</a>\u001b[0m     np\u001b[39m.\u001b[39;49mappend(list_,[random\u001b[39m.\u001b[39;49mrandrange(\u001b[39m0\u001b[39;49m,\u001b[39m6\u001b[39;49m)], axis\u001b[39m=\u001b[39;49m\u001b[39m1\u001b[39;49m)\n\u001b[0;32m      <a href='vscode-notebook-cell:/c%3A/Users/Mahed/Documents/GitHub/Rob7-MainProject/test_mahed.ipynb#X10sZmlsZQ%3D%3D?line=5'>6</a>\u001b[0m np\u001b[39m.\u001b[39mmean(list_)\n",
      "File \u001b[1;32m<__array_function__ internals>:180\u001b[0m, in \u001b[0;36mappend\u001b[1;34m(*args, **kwargs)\u001b[0m\n",
      "File \u001b[1;32mc:\\ProgramData\\Anaconda3\\envs\\gym_grid\\lib\\site-packages\\numpy-1.23.4-py3.10-win-amd64.egg\\numpy\\lib\\function_base.py:5444\u001b[0m, in \u001b[0;36mappend\u001b[1;34m(arr, values, axis)\u001b[0m\n\u001b[0;32m   5442\u001b[0m     values \u001b[39m=\u001b[39m ravel(values)\n\u001b[0;32m   5443\u001b[0m     axis \u001b[39m=\u001b[39m arr\u001b[39m.\u001b[39mndim\u001b[39m-\u001b[39m\u001b[39m1\u001b[39m\n\u001b[1;32m-> 5444\u001b[0m \u001b[39mreturn\u001b[39;00m concatenate((arr, values), axis\u001b[39m=\u001b[39;49maxis)\n",
      "File \u001b[1;32m<__array_function__ internals>:180\u001b[0m, in \u001b[0;36mconcatenate\u001b[1;34m(*args, **kwargs)\u001b[0m\n",
      "\u001b[1;31mAxisError\u001b[0m: axis 1 is out of bounds for array of dimension 1"
     ]
    }
   ],
   "source": [
    "# import random\n",
    "# import numpy as np\n",
    "# list_ = np.array([0])\n",
    "# for i in range(10000):\n",
    "#     np.append(list_,[random.randrange(0,6)], axis=1)\n",
    "# np.mean(list_)"
   ]
  },
  {
   "cell_type": "code",
   "execution_count": 22,
   "metadata": {},
   "outputs": [
    {
     "data": {
      "text/plain": [
       "array([0])"
      ]
     },
     "execution_count": 22,
     "metadata": {},
     "output_type": "execute_result"
    }
   ],
   "source": [
    "list_"
   ]
  },
  {
   "cell_type": "markdown",
   "metadata": {},
   "source": []
  },
  {
   "cell_type": "code",
   "execution_count": null,
   "metadata": {},
   "outputs": [],
   "source": []
  }
 ],
 "metadata": {
  "kernelspec": {
   "display_name": "Python 3.9.4 64-bit",
   "language": "python",
   "name": "python3"
  },
  "language_info": {
   "codemirror_mode": {
    "name": "ipython",
    "version": 3
   },
   "file_extension": ".py",
   "mimetype": "text/x-python",
   "name": "python",
   "nbconvert_exporter": "python",
   "pygments_lexer": "ipython3",
   "version": "3.9.4"
  },
  "orig_nbformat": 4,
  "vscode": {
   "interpreter": {
    "hash": "09c28e8e0273a779df21193e277dbfb84c67a03f6d1d2a606392e775312b663f"
   }
  }
 },
 "nbformat": 4,
 "nbformat_minor": 2
}
