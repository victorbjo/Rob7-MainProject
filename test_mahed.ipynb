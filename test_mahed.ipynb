{
 "cells": [
  {
   "cell_type": "code",
   "execution_count": 1,
   "metadata": {},
   "outputs": [
    {
     "name": "stdout",
     "output_type": "stream",
     "text": [
      "pygame 2.1.0 (SDL 2.0.16, Python 3.9.4)\n",
      "Hello from the pygame community. https://www.pygame.org/contribute.html\n",
      "Using cpu device\n",
      "Wrapping the env with a `Monitor` wrapper\n",
      "Wrapping the env in a DummyVecEnv.\n"
     ]
    }
   ],
   "source": [
    "import gym_examples\n",
    "import gym\n",
    "import os\n",
    "import pygame\n",
    "import time\n",
    "from stable_baselines3.common.env_checker import check_env\n",
    "from stable_baselines3 import PPO, A2C\n",
    "env = gym.make('gym_examples/GridWorld-v0')\n",
    "logdir = \"logs1\"\n",
    "model = PPO(\"MultiInputPolicy\", env, verbose=1, device=\"cpu\", learning_rate=0.00009, tensorboard_log=logdir)\n",
    "if not os.path.exists(logdir):\n",
    "    os.makedirs(logdir)"
   ]
  },
  {
   "cell_type": "code",
   "execution_count": 2,
   "metadata": {},
   "outputs": [
    {
     "name": "stdout",
     "output_type": "stream",
     "text": [
      "Wrapping the env with a `Monitor` wrapper\n",
      "Wrapping the env in a DummyVecEnv.\n"
     ]
    }
   ],
   "source": [
    "\n",
    "model = PPO.load(\"PPO_GridWorld\", env=env, device=\"cpu\", learning_rate=0.00009, tensorboard_log=logdir)"
   ]
  },
  {
   "cell_type": "code",
   "execution_count": 3,
   "metadata": {},
   "outputs": [
    {
     "name": "stdout",
     "output_type": "stream",
     "text": [
      "Logging to logs1\\PPOGraphManyActorssssss_0\n",
      "---------------------------------\n",
      "| rollout/           |          |\n",
      "|    ep_len_mean     | 26.8     |\n",
      "|    ep_rew_mean     | -31.7    |\n",
      "| time/              |          |\n",
      "|    fps             | 158      |\n",
      "|    iterations      | 1        |\n",
      "|    time_elapsed    | 12       |\n",
      "|    total_timesteps | 14008320 |\n",
      "---------------------------------\n",
      "-----------------------------------------\n",
      "| rollout/                |             |\n",
      "|    ep_len_mean          | 28.4        |\n",
      "|    ep_rew_mean          | -32.9       |\n",
      "| time/                   |             |\n",
      "|    fps                  | 244         |\n",
      "|    iterations           | 2           |\n",
      "|    time_elapsed         | 16          |\n",
      "|    total_timesteps      | 14010368    |\n",
      "| train/                  |             |\n",
      "|    approx_kl            | 0.014255596 |\n",
      "|    clip_fraction        | 0.148       |\n",
      "|    clip_range           | 0.2         |\n",
      "|    entropy_loss         | -0.862      |\n",
      "|    explained_variance   | 0.185       |\n",
      "|    learning_rate        | 9e-05       |\n",
      "|    loss                 | 3.87        |\n",
      "|    n_updates            | 68400       |\n",
      "|    policy_gradient_loss | -0.00724    |\n",
      "|    value_loss           | 48.7        |\n",
      "-----------------------------------------\n",
      "-----------------------------------------\n",
      "| rollout/                |             |\n",
      "|    ep_len_mean          | 27.8        |\n",
      "|    ep_rew_mean          | -32.8       |\n",
      "| time/                   |             |\n",
      "|    fps                  | 286         |\n",
      "|    iterations           | 3           |\n",
      "|    time_elapsed         | 21          |\n",
      "|    total_timesteps      | 14012416    |\n",
      "| train/                  |             |\n",
      "|    approx_kl            | 0.018862288 |\n",
      "|    clip_fraction        | 0.157       |\n",
      "|    clip_range           | 0.2         |\n",
      "|    entropy_loss         | -0.912      |\n",
      "|    explained_variance   | 0.161       |\n",
      "|    learning_rate        | 9e-05       |\n",
      "|    loss                 | 4.5         |\n",
      "|    n_updates            | 68410       |\n",
      "|    policy_gradient_loss | -0.00759    |\n",
      "|    value_loss           | 41.5        |\n",
      "-----------------------------------------\n",
      "-----------------------------------------\n",
      "| rollout/                |             |\n",
      "|    ep_len_mean          | 26.9        |\n",
      "|    ep_rew_mean          | -33.2       |\n",
      "| time/                   |             |\n",
      "|    fps                  | 301         |\n",
      "|    iterations           | 4           |\n",
      "|    time_elapsed         | 27          |\n",
      "|    total_timesteps      | 14014464    |\n",
      "| train/                  |             |\n",
      "|    approx_kl            | 0.014171565 |\n",
      "|    clip_fraction        | 0.132       |\n",
      "|    clip_range           | 0.2         |\n",
      "|    entropy_loss         | -0.86       |\n",
      "|    explained_variance   | 0.168       |\n",
      "|    learning_rate        | 9e-05       |\n",
      "|    loss                 | 37          |\n",
      "|    n_updates            | 68420       |\n",
      "|    policy_gradient_loss | -0.0061     |\n",
      "|    value_loss           | 54.6        |\n",
      "-----------------------------------------\n",
      "-----------------------------------------\n",
      "| rollout/                |             |\n",
      "|    ep_len_mean          | 28.6        |\n",
      "|    ep_rew_mean          | -31.4       |\n",
      "| time/                   |             |\n",
      "|    fps                  | 317         |\n",
      "|    iterations           | 5           |\n",
      "|    time_elapsed         | 32          |\n",
      "|    total_timesteps      | 14016512    |\n",
      "| train/                  |             |\n",
      "|    approx_kl            | 0.014491258 |\n",
      "|    clip_fraction        | 0.125       |\n",
      "|    clip_range           | 0.2         |\n",
      "|    entropy_loss         | -0.888      |\n",
      "|    explained_variance   | 0.119       |\n",
      "|    learning_rate        | 9e-05       |\n",
      "|    loss                 | 4.02        |\n",
      "|    n_updates            | 68430       |\n",
      "|    policy_gradient_loss | -0.00716    |\n",
      "|    value_loss           | 59.2        |\n",
      "-----------------------------------------\n"
     ]
    }
   ],
   "source": [
    "model.learn(total_timesteps=10000, reset_num_timesteps=False, tb_log_name=\"PPOGraphManyActorssssss\")\n",
    "episodes = 5\n",
    "model.save(\"PPO_GridWorld\") #50 is newest working 51 is test\n"
   ]
  },
  {
   "cell_type": "code",
   "execution_count": 4,
   "metadata": {},
   "outputs": [
    {
     "ename": "KeyboardInterrupt",
     "evalue": "",
     "output_type": "error",
     "traceback": [
      "\u001b[1;31m---------------------------------------------------------------------------\u001b[0m",
      "\u001b[1;31mKeyboardInterrupt\u001b[0m                         Traceback (most recent call last)",
      "\u001b[1;32mc:\\Users\\Victor\\Desktop\\project\\Rob7-MainProject\\test_mahed.ipynb Cell 4\u001b[0m in \u001b[0;36m<cell line: 2>\u001b[1;34m()\u001b[0m\n\u001b[0;32m     <a href='vscode-notebook-cell:/c%3A/Users/Victor/Desktop/project/Rob7-MainProject/test_mahed.ipynb#W3sZmlsZQ%3D%3D?line=9'>10</a>\u001b[0m         obs, rewards, done, info, \u001b[39m=\u001b[39m env\u001b[39m.\u001b[39mstep(action[\u001b[39m0\u001b[39m])\n\u001b[0;32m     <a href='vscode-notebook-cell:/c%3A/Users/Victor/Desktop/project/Rob7-MainProject/test_mahed.ipynb#W3sZmlsZQ%3D%3D?line=10'>11</a>\u001b[0m         env\u001b[39m.\u001b[39mrender()\n\u001b[1;32m---> <a href='vscode-notebook-cell:/c%3A/Users/Victor/Desktop/project/Rob7-MainProject/test_mahed.ipynb#W3sZmlsZQ%3D%3D?line=11'>12</a>\u001b[0m         time\u001b[39m.\u001b[39;49msleep(\u001b[39m0.5\u001b[39;49m)\n\u001b[0;32m     <a href='vscode-notebook-cell:/c%3A/Users/Victor/Desktop/project/Rob7-MainProject/test_mahed.ipynb#W3sZmlsZQ%3D%3D?line=12'>13</a>\u001b[0m \u001b[39mprint\u001b[39m(env\u001b[39m.\u001b[39mfail_battery,env\u001b[39m.\u001b[39mfail_collision, env\u001b[39m.\u001b[39mfail_longEpisode, env\u001b[39m.\u001b[39mfail_noChange, env\u001b[39m.\u001b[39msuccess)\n",
      "\u001b[1;31mKeyboardInterrupt\u001b[0m: "
     ]
    }
   ],
   "source": [
    "episodes = 1000\n",
    "for ep in range(episodes):\n",
    "    obs = env.reset()\n",
    "    done = False\n",
    "    while not done:\n",
    "        action = model.predict(obs)\n",
    "        #print(type(int(action[0])))\n",
    "        #print(action[0])\n",
    "        #print(int(action[0]))\n",
    "        obs, rewards, done, info, = env.step(action[0])\n",
    "        env.render()\n",
    "        #time.sleep(0.5)\n",
    "print(env.fail_battery,env.fail_collision, env.fail_longEpisode, env.fail_noChange, env.success)"
   ]
  },
  {
   "cell_type": "code",
   "execution_count": 5,
   "metadata": {},
   "outputs": [
    {
     "name": "stdout",
     "output_type": "stream",
     "text": [
      "320 49 0 0 0\n"
     ]
    }
   ],
   "source": [
    "print(env.fail_battery,env.fail_collision, env.fail_longEpisode, env.fail_noChange, env.success)\n",
    "env.close()"
   ]
  },
  {
   "cell_type": "code",
   "execution_count": 4,
   "metadata": {},
   "outputs": [
    {
     "name": "stdout",
     "output_type": "stream",
     "text": [
      "-5\n",
      "-5\n",
      "-5\n",
      "2\n",
      "-5\n",
      "2\n",
      "-5\n",
      "2\n",
      "2\n",
      "-5\n",
      "2\n",
      "2\n",
      "-5\n",
      "2\n",
      "2\n",
      "-5\n",
      "2\n",
      "25\n",
      "2\n",
      "2\n",
      "2\n",
      "2\n",
      "100\n",
      "2\n",
      "2\n",
      "2\n",
      "2\n",
      "25\n",
      "2\n",
      "100\n",
      "-5\n",
      "2\n",
      "25\n",
      "2\n",
      "2\n",
      "2\n",
      "100\n",
      "-5\n",
      "2\n",
      "-5\n",
      "-5\n",
      "2\n",
      "-5\n",
      "2\n",
      "-5\n",
      "-5\n",
      "2\n",
      "2\n",
      "2\n",
      "-5\n",
      "2\n",
      "-5\n",
      "2\n",
      "-5\n",
      "2\n",
      "25\n",
      "2\n",
      "2\n",
      "100\n",
      "2\n",
      "100\n",
      "2\n",
      "2\n",
      "2\n",
      "2\n",
      "2\n",
      "2\n",
      "100\n",
      "2\n",
      "2\n",
      "2\n",
      "-5\n",
      "-5\n",
      "2\n",
      "2\n",
      "2\n",
      "2\n",
      "2\n",
      "25\n",
      "2\n",
      "2\n",
      "2\n",
      "2\n",
      "100\n",
      "2\n",
      "2\n",
      "25\n",
      "2\n",
      "2\n",
      "2\n",
      "2\n",
      "2\n",
      "100\n",
      "2\n",
      "2\n",
      "2\n",
      "2\n",
      "25\n",
      "2\n",
      "2\n",
      "100\n",
      "2\n",
      "-5\n",
      "2\n",
      "-5\n",
      "-5\n",
      "-5\n",
      "-5\n",
      "2\n",
      "-5\n",
      "2\n",
      "2\n",
      "-5\n",
      "-5\n",
      "2\n",
      "2\n",
      "-5\n",
      "2\n",
      "2\n",
      "2\n",
      "25\n",
      "2\n",
      "2\n",
      "2\n",
      "2\n",
      "100\n",
      "2\n",
      "100\n",
      "2\n",
      "2\n",
      "-5\n",
      "-5\n",
      "2\n",
      "-5\n",
      "2\n",
      "2\n",
      "-5\n",
      "2\n",
      "-5\n",
      "-5\n",
      "-5\n",
      "2\n",
      "2\n",
      "2\n",
      "2\n",
      "2\n",
      "25\n",
      "2\n",
      "2\n",
      "2\n",
      "2\n",
      "2\n",
      "100\n",
      "2\n",
      "-5\n",
      "2\n",
      "2\n",
      "-5\n",
      "2\n",
      "-5\n",
      "2\n",
      "2\n",
      "2\n",
      "25\n",
      "2\n",
      "2\n",
      "2\n",
      "2\n",
      "2\n",
      "2\n",
      "100\n",
      "2\n",
      "2\n",
      "2\n",
      "2\n",
      "2\n",
      "2\n",
      "100\n",
      "2\n",
      "2\n",
      "2\n",
      "100\n"
     ]
    }
   ],
   "source": [
    "env = gym.make('gym_examples/GridWorld-v0')\n",
    "for ep in range(episodes):\n",
    "    obs = env.reset()\n",
    "    done = False\n",
    "    while not done:\n",
    "        action = model.predict(obs)\n",
    "        #print(type(int(action[0])))\n",
    "        \n",
    "        #print(int(action[0]))\n",
    "        obs, rewards, done, info, = env.step(int(action[0]))\n",
    "        print (rewards)\n",
    "        env.render()"
   ]
  },
  {
   "cell_type": "code",
   "execution_count": 6,
   "metadata": {},
   "outputs": [
    {
     "name": "stdout",
     "output_type": "stream",
     "text": [
      "96 3933 0 448 15928\n"
     ]
    }
   ],
   "source": [
    "print(env.fail_battery,env.fail_collision, env.fail_longEpisode, env.fail_noChange, env.success)\n",
    "env.close()"
   ]
  },
  {
   "cell_type": "code",
   "execution_count": 24,
   "metadata": {},
   "outputs": [
    {
     "ename": "AxisError",
     "evalue": "axis 1 is out of bounds for array of dimension 1",
     "output_type": "error",
     "traceback": [
      "\u001b[1;31m---------------------------------------------------------------------------\u001b[0m",
      "\u001b[1;31mAxisError\u001b[0m                                 Traceback (most recent call last)",
      "\u001b[1;32mc:\\Users\\Mahed\\Documents\\GitHub\\Rob7-MainProject\\test_mahed.ipynb Cell 8\u001b[0m in \u001b[0;36m<cell line: 4>\u001b[1;34m()\u001b[0m\n\u001b[0;32m      <a href='vscode-notebook-cell:/c%3A/Users/Mahed/Documents/GitHub/Rob7-MainProject/test_mahed.ipynb#X10sZmlsZQ%3D%3D?line=2'>3</a>\u001b[0m list_ \u001b[39m=\u001b[39m np\u001b[39m.\u001b[39marray([\u001b[39m0\u001b[39m])\n\u001b[0;32m      <a href='vscode-notebook-cell:/c%3A/Users/Mahed/Documents/GitHub/Rob7-MainProject/test_mahed.ipynb#X10sZmlsZQ%3D%3D?line=3'>4</a>\u001b[0m \u001b[39mfor\u001b[39;00m i \u001b[39min\u001b[39;00m \u001b[39mrange\u001b[39m(\u001b[39m10000\u001b[39m):\n\u001b[1;32m----> <a href='vscode-notebook-cell:/c%3A/Users/Mahed/Documents/GitHub/Rob7-MainProject/test_mahed.ipynb#X10sZmlsZQ%3D%3D?line=4'>5</a>\u001b[0m     np\u001b[39m.\u001b[39;49mappend(list_,[random\u001b[39m.\u001b[39;49mrandrange(\u001b[39m0\u001b[39;49m,\u001b[39m6\u001b[39;49m)], axis\u001b[39m=\u001b[39;49m\u001b[39m1\u001b[39;49m)\n\u001b[0;32m      <a href='vscode-notebook-cell:/c%3A/Users/Mahed/Documents/GitHub/Rob7-MainProject/test_mahed.ipynb#X10sZmlsZQ%3D%3D?line=5'>6</a>\u001b[0m np\u001b[39m.\u001b[39mmean(list_)\n",
      "File \u001b[1;32m<__array_function__ internals>:180\u001b[0m, in \u001b[0;36mappend\u001b[1;34m(*args, **kwargs)\u001b[0m\n",
      "File \u001b[1;32mc:\\ProgramData\\Anaconda3\\envs\\gym_grid\\lib\\site-packages\\numpy-1.23.4-py3.10-win-amd64.egg\\numpy\\lib\\function_base.py:5444\u001b[0m, in \u001b[0;36mappend\u001b[1;34m(arr, values, axis)\u001b[0m\n\u001b[0;32m   5442\u001b[0m     values \u001b[39m=\u001b[39m ravel(values)\n\u001b[0;32m   5443\u001b[0m     axis \u001b[39m=\u001b[39m arr\u001b[39m.\u001b[39mndim\u001b[39m-\u001b[39m\u001b[39m1\u001b[39m\n\u001b[1;32m-> 5444\u001b[0m \u001b[39mreturn\u001b[39;00m concatenate((arr, values), axis\u001b[39m=\u001b[39;49maxis)\n",
      "File \u001b[1;32m<__array_function__ internals>:180\u001b[0m, in \u001b[0;36mconcatenate\u001b[1;34m(*args, **kwargs)\u001b[0m\n",
      "\u001b[1;31mAxisError\u001b[0m: axis 1 is out of bounds for array of dimension 1"
     ]
    }
   ],
   "source": [
    "# import random\n",
    "# import numpy as np\n",
    "# list_ = np.array([0])\n",
    "# for i in range(10000):\n",
    "#     np.append(list_,[random.randrange(0,6)], axis=1)\n",
    "# np.mean(list_)"
   ]
  },
  {
   "cell_type": "code",
   "execution_count": 22,
   "metadata": {},
   "outputs": [
    {
     "data": {
      "text/plain": [
       "array([0])"
      ]
     },
     "execution_count": 22,
     "metadata": {},
     "output_type": "execute_result"
    }
   ],
   "source": [
    "list_"
   ]
  },
  {
   "cell_type": "markdown",
   "metadata": {},
   "source": []
  },
  {
   "cell_type": "code",
   "execution_count": null,
   "metadata": {},
   "outputs": [],
   "source": []
  }
 ],
 "metadata": {
  "kernelspec": {
   "display_name": "Python 3.9.4 64-bit",
   "language": "python",
   "name": "python3"
  },
  "language_info": {
   "codemirror_mode": {
    "name": "ipython",
    "version": 3
   },
   "file_extension": ".py",
   "mimetype": "text/x-python",
   "name": "python",
   "nbconvert_exporter": "python",
   "pygments_lexer": "ipython3",
   "version": "3.9.4"
  },
  "orig_nbformat": 4,
  "vscode": {
   "interpreter": {
    "hash": "09c28e8e0273a779df21193e277dbfb84c67a03f6d1d2a606392e775312b663f"
   }
  }
 },
 "nbformat": 4,
 "nbformat_minor": 2
}
